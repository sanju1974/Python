{
  "nbformat": 4,
  "nbformat_minor": 0,
  "metadata": {
    "colab": {
      "provenance": [],
      "authorship_tag": "ABX9TyPkl9BGutRemWAcKOjbajWR",
      "include_colab_link": true
    },
    "kernelspec": {
      "name": "python3",
      "display_name": "Python 3"
    },
    "language_info": {
      "name": "python"
    }
  },
  "cells": [
    {
      "cell_type": "markdown",
      "metadata": {
        "id": "view-in-github",
        "colab_type": "text"
      },
      "source": [
        "<a href=\"https://colab.research.google.com/github/sanju1974/Python/blob/main/Chapter0101.ipynb\" target=\"_parent\"><img src=\"https://colab.research.google.com/assets/colab-badge.svg\" alt=\"Open In Colab\"/></a>"
      ]
    },
    {
      "cell_type": "code",
      "execution_count": 1,
      "metadata": {
        "id": "off4h3aGHb3n",
        "colab": {
          "base_uri": "https://localhost:8080/"
        },
        "outputId": "8537887d-4a24-4835-c4a8-9df8404c50f3"
      },
      "outputs": [
        {
          "output_type": "stream",
          "name": "stdout",
          "text": [
            "w0 =  0.20 , w1 = -0.60 , w2 =  0.25\n",
            "w0 =  0.30 , w1 = -0.50 , w2 =  0.15\n",
            "w0 =  0.40 , w1 = -0.40 , w2 =  0.05\n",
            "w0 =  0.30 , w1 = -0.50 , w2 = -0.05\n",
            "w0 =  0.40 , w1 = -0.40 , w2 = -0.15\n"
          ]
        }
      ],
      "source": [
        "import random\n",
        "\n",
        "def show_learning(w):\n",
        "    print('w0 =', '%5.2f' % w[0], ', w1 =', '%5.2f' % w[1],\n",
        "          ', w2 =', '%5.2f' % w[2])\n",
        "\n",
        "# Define variables needed to control training process.\n",
        "random.seed(7) # To make repeatable\n",
        "LEARNING_RATE = 0.1\n",
        "index_list = [0, 1, 2, 3] # Used to randomize order\n",
        "\n",
        "# Define training examples.\n",
        "x_train = [(1.0, -1.0, -1.0), (1.0, -1.0, 1.0),\n",
        "    (1.0, 1.0, -1.0), (1.0, 1.0, 1.0)] # Inputs\n",
        "y_train = [1.0, 1.0, 1.0, -1.0] # Output (ground truth)\n",
        "\n",
        "# Define perceptron weights.\n",
        "w = [0.2, -0.6, 0.25] # Initialize to some \"random\" numbers\n",
        "\n",
        "# Print initial weights.\n",
        "show_learning(w)\n",
        "\n",
        "# First element in vector x must be 1.\n",
        "# Length of w and x must be n+1 for neuron with n inputs.\n",
        "def compute_output(w, x):\n",
        "    z = 0.0\n",
        "    for i in range(len(w)):\n",
        "        z += x[i] * w[i] # Compute sum of weighted inputs\n",
        "    if z < 0: # Apply sign function\n",
        "        return -1\n",
        "    else:\n",
        "        return 1\n",
        "\n",
        "# Perceptron training loop.\n",
        "all_correct = False\n",
        "while not all_correct:\n",
        "    all_correct = True\n",
        "    random.shuffle(index_list) # Randomize order\n",
        "    for i in index_list:\n",
        "        x = x_train[i]\n",
        "        y = y_train[i]\n",
        "        p_out = compute_output(w, x) # Perceptron function\n",
        "        if y != p_out: # Update weights when wrong\n",
        "            for j in range(0, len(w)):\n",
        "                w[j] += (y * LEARNING_RATE * x[j])\n",
        "            all_correct = False\n",
        "            show_learning(w) # Show updated weights\n"
      ]
    }
  ]
}